{
 "cells": [
  {
   "cell_type": "markdown",
   "metadata": {},
   "source": [
    "# Python-ifed\n",
    "\n",
    "Welcome to the python-ifed notebook, This notebook is a walkthrough + task for you to get started with software development using python.\n",
    "\n",
    "After completing this notebook successfully you should be familiar with the following concepts:\n",
    "* Use version control\n",
    "* Writing clean and modular code\n",
    "* Improve code efficiency\n",
    "* Add effective documentation\n",
    "* Testing \n",
    "* Code reviews\n",
    "\n",
    "**This exercise depends on a lot of googling skills and is aimed at making you efficient in the same**."
   ]
  },
  {
   "cell_type": "markdown",
   "metadata": {},
   "source": [
    "## Challenge 1 : Tables and stuff"
   ]
  },
  {
   "cell_type": "markdown",
   "metadata": {},
   "source": [
    "## Step 0\n",
    "\n",
    "You might be already done with this step\n",
    "\n",
    "### Learn to version control using git\n",
    "\n",
    "1. Install git CLI tool\n",
    "1. Configure git CLI\n",
    "1. Create a GitHub account if you already have not \n",
    "1. Clone the repo that contains this repository\n",
    "1. Now you are in master branch\n",
    "1. Create a new branch with your name as the branch name and continue\n",
    "\n",
    "### Reference materials\n",
    "https://www.atlassian.com/git\n",
    "\n",
    "https://www.tutorialspoint.com/git/git_basic_concepts.htm"
   ]
  },
  {
   "cell_type": "markdown",
   "metadata": {},
   "source": [
    "# Step 1\n",
    "\n",
    "## Clean and modular code\n",
    "\n",
    "Test out your googling skills and understand what writing clean and modular code means and answer the following questions by editing this cell in jupyter notebook.\n",
    "\n",
    "### Describe what each of the following means\n",
    "\n",
    "#### Production\n",
    "Any code that is ready to be used by its userbase after testing.\n",
    "#### Clean \n",
    "A code which is easy to understand, modify and test.\n",
    "#### Modular\n",
    "Modular means to divide the code into different modules. It makes the program reusable and easy to maintain.\n",
    "#### Module\n",
    "Module is a file which has definitions which can be used in a script or in an interactive instance of the interpretor\n",
    "#### Refactoring code\n",
    "It is the process of restructuring the code without changing or adding anything to its functionality. It makes the code more readable."
   ]
  },
  {
   "cell_type": "markdown",
   "metadata": {},
   "source": [
    "If you have finished writing the answers you can now commit these new changes with git using the commit message __step 1 completed__ ."
   ]
  },
  {
   "cell_type": "markdown",
   "metadata": {},
   "source": [
    "# Step 2\n",
    "\n",
    "## Refactor: Cricket Match Analysis\n",
    "\n",
    "Here I would be providing you with a sample code, don't worry about the working much try to get an abstract idea and complete the task"
   ]
  },
  {
   "cell_type": "code",
   "execution_count": 2,
   "metadata": {},
   "outputs": [
    {
     "output_type": "execute_result",
     "data": {
      "text/plain": [
       "      Season       city        date                       team 1  \\\n",
       "id                                                                 \n",
       "1   IPL-2017  Hyderabad  05-04-2017          Sunrisers Hyderabad   \n",
       "2   IPL-2017       Pune  06-04-2017               Mumbai Indians   \n",
       "3   IPL-2017     Rajkot  07-04-2017                Gujarat Lions   \n",
       "4   IPL-2017     Indore  08-04-2017       Rising Pune Supergiant   \n",
       "5   IPL-2017  Bangalore  08-04-2017  Royal Challengers Bangalore   \n",
       "\n",
       "                         team 2                  toss winner toss decision  \\\n",
       "id                                                                           \n",
       "1   Royal Challengers Bangalore  Royal Challengers Bangalore         field   \n",
       "2        Rising Pune Supergiant       Rising Pune Supergiant         field   \n",
       "3         Kolkata Knight Riders        Kolkata Knight Riders         field   \n",
       "4               Kings XI Punjab              Kings XI Punjab         field   \n",
       "5              Delhi Daredevils  Royal Challengers Bangalore           bat   \n",
       "\n",
       "    result  dl applied                       winner  win by runs  \\\n",
       "id                                                                 \n",
       "1   normal           0          Sunrisers Hyderabad           35   \n",
       "2   normal           0       Rising Pune Supergiant            0   \n",
       "3   normal           0        Kolkata Knight Riders            0   \n",
       "4   normal           0              Kings XI Punjab            0   \n",
       "5   normal           0  Royal Challengers Bangalore           15   \n",
       "\n",
       "    win by wickets player of match                                      venue  \\\n",
       "id                                                                              \n",
       "1                0    Yuvraj Singh  Rajiv Gandhi International Stadium, Uppal   \n",
       "2                7       SPD Smith    Maharashtra Cricket Association Stadium   \n",
       "3               10         CA Lynn     Saurashtra Cricket Association Stadium   \n",
       "4                6      GJ Maxwell                     Holkar Cricket Stadium   \n",
       "5                0       KM Jadhav                      M Chinnaswamy Stadium   \n",
       "\n",
       "          umpire 1       umpire 2  \n",
       "id                                 \n",
       "1      AY Dandekar       NJ Llong  \n",
       "2   A Nand Kishore         S Ravi  \n",
       "3      Nitin Menon      CK Nandan  \n",
       "4     AK Chaudhary  C Shamshuddin  \n",
       "5              NaN            NaN  "
      ],
      "text/html": "<div>\n<style scoped>\n    .dataframe tbody tr th:only-of-type {\n        vertical-align: middle;\n    }\n\n    .dataframe tbody tr th {\n        vertical-align: top;\n    }\n\n    .dataframe thead th {\n        text-align: right;\n    }\n</style>\n<table border=\"1\" class=\"dataframe\">\n  <thead>\n    <tr style=\"text-align: right;\">\n      <th></th>\n      <th>Season</th>\n      <th>city</th>\n      <th>date</th>\n      <th>team 1</th>\n      <th>team 2</th>\n      <th>toss winner</th>\n      <th>toss decision</th>\n      <th>result</th>\n      <th>dl applied</th>\n      <th>winner</th>\n      <th>win by runs</th>\n      <th>win by wickets</th>\n      <th>player of match</th>\n      <th>venue</th>\n      <th>umpire 1</th>\n      <th>umpire 2</th>\n    </tr>\n    <tr>\n      <th>id</th>\n      <th></th>\n      <th></th>\n      <th></th>\n      <th></th>\n      <th></th>\n      <th></th>\n      <th></th>\n      <th></th>\n      <th></th>\n      <th></th>\n      <th></th>\n      <th></th>\n      <th></th>\n      <th></th>\n      <th></th>\n      <th></th>\n    </tr>\n  </thead>\n  <tbody>\n    <tr>\n      <th>1</th>\n      <td>IPL-2017</td>\n      <td>Hyderabad</td>\n      <td>05-04-2017</td>\n      <td>Sunrisers Hyderabad</td>\n      <td>Royal Challengers Bangalore</td>\n      <td>Royal Challengers Bangalore</td>\n      <td>field</td>\n      <td>normal</td>\n      <td>0</td>\n      <td>Sunrisers Hyderabad</td>\n      <td>35</td>\n      <td>0</td>\n      <td>Yuvraj Singh</td>\n      <td>Rajiv Gandhi International Stadium, Uppal</td>\n      <td>AY Dandekar</td>\n      <td>NJ Llong</td>\n    </tr>\n    <tr>\n      <th>2</th>\n      <td>IPL-2017</td>\n      <td>Pune</td>\n      <td>06-04-2017</td>\n      <td>Mumbai Indians</td>\n      <td>Rising Pune Supergiant</td>\n      <td>Rising Pune Supergiant</td>\n      <td>field</td>\n      <td>normal</td>\n      <td>0</td>\n      <td>Rising Pune Supergiant</td>\n      <td>0</td>\n      <td>7</td>\n      <td>SPD Smith</td>\n      <td>Maharashtra Cricket Association Stadium</td>\n      <td>A Nand Kishore</td>\n      <td>S Ravi</td>\n    </tr>\n    <tr>\n      <th>3</th>\n      <td>IPL-2017</td>\n      <td>Rajkot</td>\n      <td>07-04-2017</td>\n      <td>Gujarat Lions</td>\n      <td>Kolkata Knight Riders</td>\n      <td>Kolkata Knight Riders</td>\n      <td>field</td>\n      <td>normal</td>\n      <td>0</td>\n      <td>Kolkata Knight Riders</td>\n      <td>0</td>\n      <td>10</td>\n      <td>CA Lynn</td>\n      <td>Saurashtra Cricket Association Stadium</td>\n      <td>Nitin Menon</td>\n      <td>CK Nandan</td>\n    </tr>\n    <tr>\n      <th>4</th>\n      <td>IPL-2017</td>\n      <td>Indore</td>\n      <td>08-04-2017</td>\n      <td>Rising Pune Supergiant</td>\n      <td>Kings XI Punjab</td>\n      <td>Kings XI Punjab</td>\n      <td>field</td>\n      <td>normal</td>\n      <td>0</td>\n      <td>Kings XI Punjab</td>\n      <td>0</td>\n      <td>6</td>\n      <td>GJ Maxwell</td>\n      <td>Holkar Cricket Stadium</td>\n      <td>AK Chaudhary</td>\n      <td>C Shamshuddin</td>\n    </tr>\n    <tr>\n      <th>5</th>\n      <td>IPL-2017</td>\n      <td>Bangalore</td>\n      <td>08-04-2017</td>\n      <td>Royal Challengers Bangalore</td>\n      <td>Delhi Daredevils</td>\n      <td>Royal Challengers Bangalore</td>\n      <td>bat</td>\n      <td>normal</td>\n      <td>0</td>\n      <td>Royal Challengers Bangalore</td>\n      <td>15</td>\n      <td>0</td>\n      <td>KM Jadhav</td>\n      <td>M Chinnaswamy Stadium</td>\n      <td>NaN</td>\n      <td>NaN</td>\n    </tr>\n  </tbody>\n</table>\n</div>"
     },
     "metadata": {},
     "execution_count": 2
    }
   ],
   "source": [
    "import pandas as pd\n",
    "df = pd.read_csv('matches.csv', sep=',')\n",
    "df.set_index('id',inplace=True)\n",
    "df.drop('umpire3',axis=1,inplace=True)\n",
    "df.head()"
   ]
  },
  {
   "cell_type": "markdown",
   "metadata": {},
   "source": [
    "This is how our data looks like right now we need to write efficient code to replaces the spaces with an underscore, the janky way of doing this is"
   ]
  },
  {
   "cell_type": "code",
   "execution_count": null,
   "metadata": {},
   "outputs": [],
   "source": [
    "new_df = df.rename(columns={'team 1': 'team_1',\n",
    "                             'team 2': 'team_2',\n",
    "                             'toss winner': 'toss_winner',\n",
    "                             'dl applied': 'dl_applied',\n",
    "                             'win by runs': 'win_by_runs',\n",
    "                             'win by wickets': 'win_by_wickets',\n",
    "                            'player of match': 'player_of_match',\n",
    "                            'umpire 1':'umpire_1',\n",
    "                            'umpire 2':'umpire_2'\n",
    "                            })\n",
    "new_df.head()"
   ]
  },
  {
   "cell_type": "markdown",
   "metadata": {},
   "source": [
    "This is like a hardcoded way of doing it slightly better way of doing this is "
   ]
  },
  {
   "cell_type": "code",
   "execution_count": null,
   "metadata": {},
   "outputs": [],
   "source": [
    "labels = list(df.columns)\n",
    "labels[0] = labels[0].replace(' ', '_')\n",
    "labels[1] = labels[1].replace(' ', '_')\n",
    "labels[2] = labels[2].replace(' ', '_')\n",
    "labels[3] = labels[3].replace(' ', '_')\n",
    "labels[5] = labels[5].replace(' ', '_')\n",
    "labels[6] = labels[6].replace(' ', '_')\n",
    "labels[7] = labels[7].replace(' ', '_')\n",
    "labels[8] = labels[8].replace(' ', '_')\n",
    "labels[9] = labels[9].replace(' ', '_')\n",
    "labels[10] = labels[10].replace(' ', '_')\n",
    "df.columns = labels\n",
    "df.head()"
   ]
  },
  {
   "cell_type": "markdown",
   "metadata": {},
   "source": [
    "This is also a very redundant way of doing this try writing a better code to do the same. Limit yourselves to one or two lines of code."
   ]
  },
  {
   "cell_type": "code",
   "execution_count": 3,
   "metadata": {},
   "outputs": [
    {
     "output_type": "execute_result",
     "data": {
      "text/plain": [
       "      Season       city        date                       team_1  \\\n",
       "id                                                                 \n",
       "1   IPL-2017  Hyderabad  05-04-2017          Sunrisers Hyderabad   \n",
       "2   IPL-2017       Pune  06-04-2017               Mumbai Indians   \n",
       "3   IPL-2017     Rajkot  07-04-2017                Gujarat Lions   \n",
       "4   IPL-2017     Indore  08-04-2017       Rising Pune Supergiant   \n",
       "5   IPL-2017  Bangalore  08-04-2017  Royal Challengers Bangalore   \n",
       "\n",
       "                         team_2                  toss_winner toss_decision  \\\n",
       "id                                                                           \n",
       "1   Royal Challengers Bangalore  Royal Challengers Bangalore         field   \n",
       "2        Rising Pune Supergiant       Rising Pune Supergiant         field   \n",
       "3         Kolkata Knight Riders        Kolkata Knight Riders         field   \n",
       "4               Kings XI Punjab              Kings XI Punjab         field   \n",
       "5              Delhi Daredevils  Royal Challengers Bangalore           bat   \n",
       "\n",
       "    result  dl_applied                       winner  win_by_runs  \\\n",
       "id                                                                 \n",
       "1   normal           0          Sunrisers Hyderabad           35   \n",
       "2   normal           0       Rising Pune Supergiant            0   \n",
       "3   normal           0        Kolkata Knight Riders            0   \n",
       "4   normal           0              Kings XI Punjab            0   \n",
       "5   normal           0  Royal Challengers Bangalore           15   \n",
       "\n",
       "    win_by_wickets player_of_match                                      venue  \\\n",
       "id                                                                              \n",
       "1                0    Yuvraj Singh  Rajiv Gandhi International Stadium, Uppal   \n",
       "2                7       SPD Smith    Maharashtra Cricket Association Stadium   \n",
       "3               10         CA Lynn     Saurashtra Cricket Association Stadium   \n",
       "4                6      GJ Maxwell                     Holkar Cricket Stadium   \n",
       "5                0       KM Jadhav                      M Chinnaswamy Stadium   \n",
       "\n",
       "          umpire_1       umpire_2  \n",
       "id                                 \n",
       "1      AY Dandekar       NJ Llong  \n",
       "2   A Nand Kishore         S Ravi  \n",
       "3      Nitin Menon      CK Nandan  \n",
       "4     AK Chaudhary  C Shamshuddin  \n",
       "5              NaN            NaN  "
      ],
      "text/html": "<div>\n<style scoped>\n    .dataframe tbody tr th:only-of-type {\n        vertical-align: middle;\n    }\n\n    .dataframe tbody tr th {\n        vertical-align: top;\n    }\n\n    .dataframe thead th {\n        text-align: right;\n    }\n</style>\n<table border=\"1\" class=\"dataframe\">\n  <thead>\n    <tr style=\"text-align: right;\">\n      <th></th>\n      <th>Season</th>\n      <th>city</th>\n      <th>date</th>\n      <th>team_1</th>\n      <th>team_2</th>\n      <th>toss_winner</th>\n      <th>toss_decision</th>\n      <th>result</th>\n      <th>dl_applied</th>\n      <th>winner</th>\n      <th>win_by_runs</th>\n      <th>win_by_wickets</th>\n      <th>player_of_match</th>\n      <th>venue</th>\n      <th>umpire_1</th>\n      <th>umpire_2</th>\n    </tr>\n    <tr>\n      <th>id</th>\n      <th></th>\n      <th></th>\n      <th></th>\n      <th></th>\n      <th></th>\n      <th></th>\n      <th></th>\n      <th></th>\n      <th></th>\n      <th></th>\n      <th></th>\n      <th></th>\n      <th></th>\n      <th></th>\n      <th></th>\n      <th></th>\n    </tr>\n  </thead>\n  <tbody>\n    <tr>\n      <th>1</th>\n      <td>IPL-2017</td>\n      <td>Hyderabad</td>\n      <td>05-04-2017</td>\n      <td>Sunrisers Hyderabad</td>\n      <td>Royal Challengers Bangalore</td>\n      <td>Royal Challengers Bangalore</td>\n      <td>field</td>\n      <td>normal</td>\n      <td>0</td>\n      <td>Sunrisers Hyderabad</td>\n      <td>35</td>\n      <td>0</td>\n      <td>Yuvraj Singh</td>\n      <td>Rajiv Gandhi International Stadium, Uppal</td>\n      <td>AY Dandekar</td>\n      <td>NJ Llong</td>\n    </tr>\n    <tr>\n      <th>2</th>\n      <td>IPL-2017</td>\n      <td>Pune</td>\n      <td>06-04-2017</td>\n      <td>Mumbai Indians</td>\n      <td>Rising Pune Supergiant</td>\n      <td>Rising Pune Supergiant</td>\n      <td>field</td>\n      <td>normal</td>\n      <td>0</td>\n      <td>Rising Pune Supergiant</td>\n      <td>0</td>\n      <td>7</td>\n      <td>SPD Smith</td>\n      <td>Maharashtra Cricket Association Stadium</td>\n      <td>A Nand Kishore</td>\n      <td>S Ravi</td>\n    </tr>\n    <tr>\n      <th>3</th>\n      <td>IPL-2017</td>\n      <td>Rajkot</td>\n      <td>07-04-2017</td>\n      <td>Gujarat Lions</td>\n      <td>Kolkata Knight Riders</td>\n      <td>Kolkata Knight Riders</td>\n      <td>field</td>\n      <td>normal</td>\n      <td>0</td>\n      <td>Kolkata Knight Riders</td>\n      <td>0</td>\n      <td>10</td>\n      <td>CA Lynn</td>\n      <td>Saurashtra Cricket Association Stadium</td>\n      <td>Nitin Menon</td>\n      <td>CK Nandan</td>\n    </tr>\n    <tr>\n      <th>4</th>\n      <td>IPL-2017</td>\n      <td>Indore</td>\n      <td>08-04-2017</td>\n      <td>Rising Pune Supergiant</td>\n      <td>Kings XI Punjab</td>\n      <td>Kings XI Punjab</td>\n      <td>field</td>\n      <td>normal</td>\n      <td>0</td>\n      <td>Kings XI Punjab</td>\n      <td>0</td>\n      <td>6</td>\n      <td>GJ Maxwell</td>\n      <td>Holkar Cricket Stadium</td>\n      <td>AK Chaudhary</td>\n      <td>C Shamshuddin</td>\n    </tr>\n    <tr>\n      <th>5</th>\n      <td>IPL-2017</td>\n      <td>Bangalore</td>\n      <td>08-04-2017</td>\n      <td>Royal Challengers Bangalore</td>\n      <td>Delhi Daredevils</td>\n      <td>Royal Challengers Bangalore</td>\n      <td>bat</td>\n      <td>normal</td>\n      <td>0</td>\n      <td>Royal Challengers Bangalore</td>\n      <td>15</td>\n      <td>0</td>\n      <td>KM Jadhav</td>\n      <td>M Chinnaswamy Stadium</td>\n      <td>NaN</td>\n      <td>NaN</td>\n    </tr>\n  </tbody>\n</table>\n</div>"
     },
     "metadata": {},
     "execution_count": 3
    }
   ],
   "source": [
    "df.columns = df.columns.str.replace(' ','_')\n",
    "df.head()"
   ]
  },
  {
   "cell_type": "markdown",
   "metadata": {},
   "source": [
    "Once you are done till here make a new commit with message __step 2 complete__."
   ]
  },
  {
   "cell_type": "markdown",
   "metadata": {},
   "source": [
    "# Step 3\n",
    "\n",
    "## Optimizing Code\n",
    "\n",
    "### Efficient Code\n",
    "\n",
    "Knowing how to write code that runs efficiently is another essential skill in software development. Optimizing code to be more efficient can mean making it:\n",
    "\n",
    "* Execute faster\n",
    "* Take up less space in memory/storage\n",
    "\n",
    "\n",
    "Resources:\n",
    "https://stackify.com/20-simple-python-performance-tuning-tips/\n",
    "\n",
    "https://pybit.es/faster-python.html\n",
    "\n",
    "https://towardsdatascience.com/one-simple-trick-for-speeding-up-your-python-code-with-numpy-1afc846db418\n",
    "\n"
   ]
  },
  {
   "cell_type": "code",
   "execution_count": 4,
   "metadata": {},
   "outputs": [],
   "source": [
    "import time\n",
    "import pandas as pd\n",
    "import numpy as np"
   ]
  },
  {
   "cell_type": "code",
   "execution_count": 5,
   "metadata": {},
   "outputs": [],
   "source": [
    "with open('subset_elemets.txt') as f:\n",
    "    subset_elements = f.read().split('\\n')\n",
    "    \n",
    "with open('all_elements.txt') as f:\n",
    "    all_elements = f.read().split('\\n')\n",
    "    "
   ]
  },
  {
   "source": [
    "start = time.time()\n",
    "verified_elements = []\n",
    "\n",
    "for element in subset_elements:\n",
    "    if element in all_elements:\n",
    "        verified_elements.append(element)\n",
    "\n",
    "print(len(verified_elements))\n",
    "print('Duration: {} seconds'.format(time.time() - start))"
   ],
   "cell_type": "code",
   "metadata": {},
   "execution_count": null,
   "outputs": []
  },
  {
   "cell_type": "markdown",
   "metadata": {},
   "source": [
    "#### Use vector operations using NumPy to optimise the loop"
   ]
  },
  {
   "source": [
    "start = time.time()\n",
    "verified_elements= np.intersect1d(subset_elements, all_elements)\n",
    "\n",
    "print(len(verified_elements))\n",
    "print('Duration: {} seconds'.format(time.time() - start))"
   ],
   "cell_type": "code",
   "metadata": {},
   "execution_count": 9,
   "outputs": [
    {
     "output_type": "stream",
     "name": "stdout",
     "text": [
      "96\nDuration: 0.038300514221191406 seconds\n"
     ]
    }
   ]
  },
  {
   "cell_type": "markdown",
   "metadata": {},
   "source": [
    "#### Use a python datastructure which has a method to peform this task faster"
   ]
  },
  {
   "cell_type": "code",
   "execution_count": 10,
   "metadata": {},
   "outputs": [
    {
     "output_type": "stream",
     "name": "stdout",
     "text": [
      "96\nDuration: 0.011659860610961914 seconds\n"
     ]
    }
   ],
   "source": [
    "start = time.time()\n",
    "a =set(subset_elements)\n",
    "b =set(all_elements)\n",
    "verified_elements = a.intersection(b)\n",
    "\n",
    "print(len(verified_elements))\n",
    "print('Duration: {} seconds'.format(time.time() - start))"
   ]
  },
  {
   "cell_type": "markdown",
   "metadata": {},
   "source": [
    "# Step 4\n",
    "# Documentation\n",
    "\n",
    "Documentation is one of the important part of software development. Teach yourself about documentation in python and convert code in step 3 to functions and add relevant documentation for the same.\n",
    "\n",
    "#### Resources\n",
    "https://www.python.org/dev/peps/pep-0257/\n",
    "\n",
    "https://numpydoc.readthedocs.io/en/latest/format.html\n",
    "\n",
    "https://www.datacamp.com/community/tutorials/documenting-python-code\n",
    "\n",
    "do not add this code to the notebook instead create a new python file called step_4.py and define the functions as well as a main to test the working of all the functions make sure to version this file as well on the commit message __step 4 completed__"
   ]
  },
  {
   "cell_type": "markdown",
   "metadata": {},
   "source": [
    "# Step 5\n",
    "\n",
    "# Testing\n",
    "\n",
    "Testing your code is essential before deployment. It helps you catch errors and faulty conclusions before they make any major impact. Today, employers are looking for data scientists with the skills to properly prepare their code for an industry setting, which includes testing their code.\n",
    "\n",
    "Learn about pytest and install it \n",
    "\n",
    "https://docs.pytest.org/en/stable/\n",
    "\n",
    "create a new file called nearest_square.py this function should return the nearest perfect square number which is less than or equal to the number.\n",
    "\n",
    "create another file called test_nearest_square.py to test the function with different test each for values 5,-12,9 and 23\n",
    "\n",
    "execute the line below to ensure it is working correctly\n",
    "\n",
    "\n"
   ]
  },
  {
   "cell_type": "code",
   "execution_count": 12,
   "metadata": {},
   "outputs": [
    {
     "output_type": "stream",
     "name": "stdout",
     "text": [
      "\u001b[1m============================= test session starts ==============================\u001b[0m\nplatform linux -- Python 3.8.5, pytest-6.2.1, py-1.10.0, pluggy-0.13.1\nrootdir: /home/siddharth/Desktop/Python-ifed-challenge\ncollected 4 items                                                              \u001b[0m\n\ntest_nearest_square.py \u001b[32m.\u001b[0m\u001b[32m.\u001b[0m\u001b[32m.\u001b[0m\u001b[32m.\u001b[0m\u001b[32m                                              [100%]\u001b[0m\n\n\u001b[32m============================== \u001b[32m\u001b[1m4 passed\u001b[0m\u001b[32m in 0.01s\u001b[0m\u001b[32m ===============================\u001b[0m\n"
     ]
    }
   ],
   "source": [
    "! pytest test_nearest_square.py"
   ]
  },
  {
   "cell_type": "markdown",
   "metadata": {},
   "source": [
    "If you are done with this step make a new commit __step5 completed__"
   ]
  },
  {
   "cell_type": "markdown",
   "metadata": {},
   "source": [
    "# Step 6 \n",
    "# Code review\n",
    "\n",
    "Understand how code review works\n",
    "\n",
    "https://github.com/lyst/MakingLyst/tree/master/code-reviews\n",
    "\n",
    "https://www.kevinlondon.com/2015/05/05/code-review-best-practices.html\n",
    "\n",
    "_Leave it to us_ if you are done with this step go ahead and push this notebook as well as all the files to your GitHub and make a pull request to the repository that you cloned this task from so that we can review your progress till now, Please continue with the challenge"
   ]
  },
  {
   "cell_type": "markdown",
   "metadata": {},
   "source": [
    "## Challenge 2 : Pokemon"
   ]
  },
  {
   "cell_type": "markdown",
   "metadata": {},
   "source": [
    "Now that you are familiar with writing efficient code let's use that practice and do some API fetching to answer some questions, Below are some questions below and you should use the [pokeapi](https://pokeapi.co/) to do some API fetching with python and answer the questions.\n",
    "\n",
    "**NOTE**\n",
    "You should fill the cell with code that gives the answer and not write the answer directly, failing to do so will reduce your evaluation and proves that you did not bother reading this part."
   ]
  },
  {
   "cell_type": "markdown",
   "metadata": {},
   "source": [
    "Remember you were in a pokemon room (discord) what is the **type** of that pokemon"
   ]
  },
  {
   "cell_type": "code",
   "execution_count": 2,
   "metadata": {},
   "outputs": [
    {
     "output_type": "stream",
     "name": "stdout",
     "text": [
      "ghost\npoison\n"
     ]
    }
   ],
   "source": [
    "import requests\n",
    "import json\n",
    "\n",
    "url = \"https://pokeapi.co/api/v2/pokemon/gengar\"\n",
    "res = requests.get(url)\n",
    "obj = res.json()\n",
    "for w in obj['types']:\n",
    "    print(w['type']['name'])"
   ]
  },
  {
   "cell_type": "markdown",
   "metadata": {},
   "source": [
    "What **type** of pokemons does this **type** take damage from\n",
    "\n",
    "__hint__ the url field of previous response"
   ]
  },
  {
   "cell_type": "code",
   "execution_count": 5,
   "metadata": {},
   "outputs": [
    {
     "output_type": "stream",
     "name": "stdout",
     "text": [
      "poison\nfairy\nground\ngrass\ndark\nbug\npsychic\nfighting\nghost\n"
     ]
    }
   ],
   "source": [
    "import requests\n",
    "import json\n",
    "dam_from = set()\n",
    "url = \"https://pokeapi.co/api/v2/pokemon/gengar\"\n",
    "res = requests.get(url)\n",
    "obj = res.json()\n",
    "for w in obj['types']:\n",
    "    link = w['type']['url']\n",
    "    r = requests.get(link)\n",
    "    detail = r.json()\n",
    "    for half in detail['damage_relations']['half_damage_from']:\n",
    "        dam_from.add(half['name'])\n",
    "    for double in detail['damage_relations']['double_damage_from']:\n",
    "        dam_from.add(double['name'])\n",
    "for pokemon in dam_from:\n",
    "    print(pokemon)"
   ]
  },
  {
   "cell_type": "markdown",
   "metadata": {},
   "source": [
    "For each of the **double damage from** type list 5 pokemons in that type"
   ]
  },
  {
   "cell_type": "code",
   "execution_count": 13,
   "metadata": {},
   "outputs": [
    {
     "output_type": "stream",
     "name": "stdout",
     "text": [
      "abra\nkadabra\nalakazam\nslowpoke\nslowbro\n"
     ]
    }
   ],
   "source": [
    "import requests\n",
    "import json\n",
    "\n",
    "dam_from = set()\n",
    "\n",
    "#getting json from webpage\n",
    "url = \"https://pokeapi.co/api/v2/pokemon/gengar\"\n",
    "res = requests.get(url)\n",
    "obj = res.json()\n",
    "\n",
    "#running elements of obj\n",
    "for w in obj['types']:\n",
    "\n",
    "    link = w['type']['url'] \n",
    "    r = requests.get(link)\n",
    "    a = r.json()\n",
    "\n",
    "    link1 = a['damage_relations']['double_damage_to'][1]['url']\n",
    "    res1 = requests.get(link1)\n",
    "    b = res1.json()\n",
    "\n",
    "    for i in range(5):\n",
    "        print(b['pokemon'][i]['pokemon']['name'])\n",
    "\n",
    "    break\n"
   ]
  },
  {
   "cell_type": "markdown",
   "metadata": {},
   "source": [
    "Create a function ability() inside a new file ability.py to return a list of the abilities of any given pokemon by doing an API query the function should accept a string parameter which is the name of the pokemon\n",
    "\n",
    "execute the line below to ensure everything is working properly"
   ]
  },
  {
   "cell_type": "code",
   "execution_count": 11,
   "metadata": {},
   "outputs": [
    {
     "output_type": "stream",
     "name": "stdout",
     "text": [
      "\u001b[1m============================= test session starts ==============================\u001b[0m\n",
      "platform linux -- Python 3.8.5, pytest-6.2.1, py-1.10.0, pluggy-0.13.1\n",
      "rootdir: /home/siddharth/Desktop/Python-ifed-challenge\n",
      "collected 4 items                                                              \u001b[0m\n",
      "\n",
      "test_abilities.py \u001b[32m.\u001b[0m\u001b[32m.\u001b[0m\u001b[32m.\u001b[0m\u001b[32m.\u001b[0m\u001b[32m                                                   [100%]\u001b[0m\n",
      "\n",
      "\u001b[32m============================== \u001b[32m\u001b[1m4 passed\u001b[0m\u001b[32m in 1.78s\u001b[0m\u001b[32m ===============================\u001b[0m\n"
     ]
    }
   ],
   "source": [
    "!pytest test_abilities.py"
   ]
  },
  {
   "cell_type": "markdown",
   "metadata": {},
   "source": [
    "Please version till this point saying with a message \"Completed challenge 2\""
   ]
  },
  {
   "cell_type": "markdown",
   "metadata": {},
   "source": [
    "## Extra Challenge for extra karma point"
   ]
  },
  {
   "cell_type": "markdown",
   "metadata": {},
   "source": [
    "If the above challenge was a cakewalk and you have a lot of time left to attempt this challenge to earn some karma points, this challenge is completely optional.\n",
    "Let's create a pokedex with the function we created earlier on that is\n",
    "\n",
    "* What is the type of pokemon\n",
    "* What type of pokemon gives double damages to the given pokemon\n",
    "* List 5 pokemons which gives the given pokemon double damage\n",
    "* Abilities of our pokemon\n",
    "\n",
    "Use [pysimplegui](https://pypi.org/project/PySimpleGUI) to create a simple pokedex which consumes these functions\n",
    "\n",
    "save the file as pokedex.py"
   ]
  },
  {
   "cell_type": "markdown",
   "metadata": {},
   "source": [
    "Version till this point with a message \"Completed Extra Challenge\"\n"
   ]
  }
 ],
 "metadata": {
  "kernelspec": {
   "display_name": "Python 3",
   "language": "python",
   "name": "python3"
  },
  "language_info": {
   "codemirror_mode": {
    "name": "ipython",
    "version": 3
   },
   "file_extension": ".py",
   "mimetype": "text/x-python",
   "name": "python",
   "nbconvert_exporter": "python",
   "pygments_lexer": "ipython3",
   "version": "3.8.2-final"
  }
 },
 "nbformat": 4,
 "nbformat_minor": 4
}